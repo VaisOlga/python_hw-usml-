{
 "cells": [
  {
   "cell_type": "markdown",
   "metadata": {},
   "source": [
    "# Домашнее задание"
   ]
  },
  {
   "cell_type": "markdown",
   "metadata": {},
   "source": [
    "Cпроектируйте объектную модель соревнования, вы должны учитывать разные спецификации автомобилей, погодные условия, и то что в один момент времени может проходить только одно соревнование, как итог, запустите гонку с разными автомобилями и продемонстрируйте победителей)\n",
    "\n",
    "Требования к решению:\n",
    " 1. Описать 3 класса:\n",
    "  - Автомобиль\n",
    "  - Погода\n",
    "  - Соревнование\n",
    " 2. Выполнить требования к классу Автомобиль:\n",
    "  - Зафиксировать спецификации автомобилей как атрибут класса\n",
    " 3. Выполнить требования к классу Погода:\n",
    "  - Реализовать доступ к функции получения скорости ветра как к переменной экземпляра класса\n",
    " 4. Выполнить требования к классу Соревнование:\n",
    "  - в качестве входных аргументов принимает 1 параметр — длина дистанции\n",
    "  - не позволять создание более 1 экземпляра класса (обратите внимание на метод класса new)"
   ]
  },
  {
   "cell_type": "code",
   "execution_count": 8,
   "metadata": {},
   "outputs": [
    {
     "name": "stdout",
     "output_type": "stream",
     "text": [
      "Car <ferrary> result: 39.365815\n",
      "Car <bugatti> result: 39.967529\n",
      "Car <toyota> result: 67.217573\n",
      "Car <lada> result: 79.851819\n",
      "Car <sx4> result: 70.710375\n"
     ]
    }
   ],
   "source": [
    "#!/usr/bin/env python\n",
    "\n",
    "from random import randint\n",
    "\n",
    "class Car:\n",
    "    def __init__(self, name, max_speed, drag_coef, time_to_max):\n",
    "        self.name = name\n",
    "        self.max_speed = max_speed\n",
    "        self.drag_coef = drag_coef\n",
    "        self.time_to_max = time_to_max\n",
    "\n",
    "        \n",
    "class Weather:\n",
    "    def __init__(self, wind_speed):\n",
    "        self.wind_speed = wind_speed\n",
    "        \n",
    "        \n",
    "class Competition:\n",
    "    _instance = None\n",
    "    def __new__(cls, *args, **kwargs):\n",
    "        if cls._instance == None:\n",
    "            cls._instance = super().__new__(cls)\n",
    "        return cls._instance            \n",
    "    \n",
    "    def __init__(self, distance):\n",
    "        self.distance = distance\n",
    "        \n",
    "    def start(self, cars, weather):\n",
    "        for car in cars:\n",
    "            competitor_time = 0\n",
    "\n",
    "            for distance in range(self.distance):\n",
    "                _wind_speed = randint(0, weather.wind_speed)\n",
    "\n",
    "                if competitor_time == 0:\n",
    "                    _speed = 1\n",
    "                else:\n",
    "                    _speed = (competitor_time / car.time_to_max) * car.max_speed\n",
    "                    if _speed > _wind_speed:\n",
    "                        _speed -= (car.drag_coef * _wind_speed)\n",
    "\n",
    "                competitor_time += float(1) / _speed\n",
    "\n",
    "            print(\"Car <%s> result: %f\" % (car.name, competitor_time))\n",
    "            \n",
    "            \n",
    "competition = Competition(10000)\n",
    "cars = [Car('ferrary', 340, 0.324, 26),\n",
    "        Car('bugatti', 407, 0.39, 32),\n",
    "        Car('toyota', 180, 0.25, 40),\n",
    "        Car('lada', 180, 0.32, 56),\n",
    "        Car('sx4', 180, 0.33, 44)]\n",
    "weather = Weather(20)\n",
    "\n",
    "competition.start(cars, weather)"
   ]
  },
  {
   "cell_type": "code",
   "execution_count": null,
   "metadata": {},
   "outputs": [],
   "source": []
  }
 ],
 "metadata": {
  "kernelspec": {
   "display_name": "Python 3",
   "language": "python",
   "name": "python3"
  },
  "language_info": {
   "codemirror_mode": {
    "name": "ipython",
    "version": 3
   },
   "file_extension": ".py",
   "mimetype": "text/x-python",
   "name": "python",
   "nbconvert_exporter": "python",
   "pygments_lexer": "ipython3",
   "version": "3.5.2"
  }
 },
 "nbformat": 4,
 "nbformat_minor": 2
}
